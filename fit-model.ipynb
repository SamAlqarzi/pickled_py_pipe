{
 "cells": [
  {
   "cell_type": "code",
   "execution_count": 16,
   "id": "7cafcbe0",
   "metadata": {},
   "outputs": [],
   "source": [
    "# imports\n",
    "import pickle \n",
    "import json\n",
    "import pandas as pd \n",
    "from sklearn.svm import SVC\n",
    "from sklearn.datasets import fetch_openml\n",
    "from sklearn.preprocessing import StandardScaler \n",
    "from sklearn.pipeline import Pipeline \n",
    "from sklearn.model_selection import train_test_split "
   ]
  },
  {
   "cell_type": "code",
   "execution_count": 5,
   "id": "23f794d7",
   "metadata": {},
   "outputs": [],
   "source": [
    "# get data \n",
    "crd = fetch_openml(name = 'creditcard')"
   ]
  },
  {
   "cell_type": "code",
   "execution_count": 8,
   "id": "52054831",
   "metadata": {},
   "outputs": [],
   "source": [
    "#split data into test-train \n",
    "x_train, x_test, y_train, y_test = train_test_split(crd.data, crd.target, random_state = 0)"
   ]
  },
  {
   "cell_type": "code",
   "execution_count": 10,
   "id": "64501cca",
   "metadata": {},
   "outputs": [],
   "source": [
    "# build pipe\n",
    "pipe = Pipeline([('scaler', StandardScaler()), ('svc', SVC())])"
   ]
  },
  {
   "cell_type": "code",
   "execution_count": 11,
   "id": "f3a29f28",
   "metadata": {},
   "outputs": [
    {
     "data": {
      "text/plain": [
       "Pipeline(steps=[('scaler', StandardScaler()), ('svc', SVC())])"
      ]
     },
     "execution_count": 11,
     "metadata": {},
     "output_type": "execute_result"
    }
   ],
   "source": [
    "# fit model\n",
    "pipe.fit(x_train, y_train)"
   ]
  },
  {
   "cell_type": "code",
   "execution_count": 13,
   "id": "02293329",
   "metadata": {},
   "outputs": [],
   "source": [
    "# pickle the pipe\n",
    "with open('pipe.pickle', 'wb') as f:\n",
    "    pickle.dump(pipe, f, pickle.HIGHEST_PROTOCOL)"
   ]
  },
  {
   "cell_type": "code",
   "execution_count": 18,
   "id": "39d9722b",
   "metadata": {},
   "outputs": [],
   "source": [
    "# taking one row from the test data \n",
    "test = x_test.iloc[0].values.tolist()"
   ]
  },
  {
   "cell_type": "code",
   "execution_count": 20,
   "id": "c14ba5a1",
   "metadata": {},
   "outputs": [],
   "source": [
    "with open ('test_data.json', 'w') as f:\n",
    "    json.dump(test, f )"
   ]
  },
  {
   "cell_type": "code",
   "execution_count": null,
   "id": "08cb0d4f",
   "metadata": {},
   "outputs": [],
   "source": []
  }
 ],
 "metadata": {
  "kernelspec": {
   "display_name": "Python 3",
   "language": "python",
   "name": "python3"
  },
  "language_info": {
   "codemirror_mode": {
    "name": "ipython",
    "version": 3
   },
   "file_extension": ".py",
   "mimetype": "text/x-python",
   "name": "python",
   "nbconvert_exporter": "python",
   "pygments_lexer": "ipython3",
   "version": "3.7.7"
  }
 },
 "nbformat": 4,
 "nbformat_minor": 5
}
